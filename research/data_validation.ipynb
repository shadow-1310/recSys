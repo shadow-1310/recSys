{
 "cells": [
  {
   "cell_type": "markdown",
   "id": "04da5442-27ee-49cd-8481-8e656f1916ba",
   "metadata": {},
   "source": [
    "## For this section we'll only validate column names and datatypes"
   ]
  },
  {
   "cell_type": "code",
   "execution_count": 1,
   "id": "2ca14ce1-9b89-4064-b284-0d2f734062c4",
   "metadata": {},
   "outputs": [],
   "source": [
    "import os\n",
    "import pandas as pd"
   ]
  },
  {
   "cell_type": "code",
   "execution_count": 8,
   "id": "faccef28-e7e8-4334-b431-8cc5a354f15d",
   "metadata": {},
   "outputs": [
    {
     "data": {
      "text/plain": [
       "'/home/shekhar/ml_projects/recSys/research'"
      ]
     },
     "execution_count": 8,
     "metadata": {},
     "output_type": "execute_result"
    }
   ],
   "source": [
    "%pwd"
   ]
  },
  {
   "cell_type": "code",
   "execution_count": 9,
   "id": "51628b16-275a-434e-bcfa-8eade0361449",
   "metadata": {},
   "outputs": [
    {
     "name": "stdout",
     "output_type": "stream",
     "text": [
      "/home/shekhar/ml_projects/recSys\n"
     ]
    }
   ],
   "source": [
    "%cd .."
   ]
  },
  {
   "cell_type": "code",
   "execution_count": 10,
   "id": "0ed1bf69-7421-40a5-926e-2998a262bf8c",
   "metadata": {},
   "outputs": [
    {
     "data": {
      "text/plain": [
       "'/home/shekhar/ml_projects/recSys'"
      ]
     },
     "execution_count": 10,
     "metadata": {},
     "output_type": "execute_result"
    }
   ],
   "source": [
    "%pwd"
   ]
  },
  {
   "cell_type": "code",
   "execution_count": 11,
   "id": "f30b3940-a6e1-498c-9206-1a71f4dc403e",
   "metadata": {},
   "outputs": [
    {
     "name": "stdout",
     "output_type": "stream",
     "text": [
      "app.py      Dockerfile  main.py      requirements.txt  setup.py     \u001b[0m\u001b[01;34mtemplates\u001b[0m/\n",
      "\u001b[01;34martifacts\u001b[0m/  LICENSE     params.yaml  \u001b[01;34mresearch\u001b[0m/         \u001b[01;34msrc\u001b[0m/         test.py\n",
      "\u001b[01;34mconfig\u001b[0m/     \u001b[01;34mlogs\u001b[0m/       README.md    schema.yaml       template.py  \u001b[01;34mvenv\u001b[0m/\n"
     ]
    }
   ],
   "source": [
    "%ls"
   ]
  },
  {
   "cell_type": "code",
   "execution_count": 12,
   "id": "5ff28623-9ca9-4ba9-a29e-c65c219c5b41",
   "metadata": {},
   "outputs": [],
   "source": [
    "path_books = \"artifacts/data_ingestion/books.csv\"\n",
    "path_ratings = \"artifacts/data_ingestion/ratings.csv\"\n",
    "genre = \"artifacts/data_ingestion/book_tags.csv\"\n",
    "genre_meta = \"artifacts/data_ingestion/tags.csv\""
   ]
  },
  {
   "cell_type": "markdown",
   "id": "542804ac-4046-421c-8516-adf9bd80fa77",
   "metadata": {},
   "source": [
    "## reading the csv files"
   ]
  },
  {
   "cell_type": "code",
   "execution_count": 14,
   "id": "1675b86f-53bc-4366-947e-5f5cd15cb000",
   "metadata": {},
   "outputs": [],
   "source": [
    "df_books = pd.read_csv(path_books)\n",
    "df_ratings = pd.read_csv(path_ratings)\n",
    "df_genre = pd.read_csv(genre)\n",
    "df_genreId = pd.read_csv(genre_meta)"
   ]
  },
  {
   "cell_type": "code",
   "execution_count": 8,
   "id": "3ca92e42-860c-4e4f-a158-dbad13aced35",
   "metadata": {},
   "outputs": [
    {
     "data": {
      "text/html": [
       "<div>\n",
       "<style scoped>\n",
       "    .dataframe tbody tr th:only-of-type {\n",
       "        vertical-align: middle;\n",
       "    }\n",
       "\n",
       "    .dataframe tbody tr th {\n",
       "        vertical-align: top;\n",
       "    }\n",
       "\n",
       "    .dataframe thead th {\n",
       "        text-align: right;\n",
       "    }\n",
       "</style>\n",
       "<table border=\"1\" class=\"dataframe\">\n",
       "  <thead>\n",
       "    <tr style=\"text-align: right;\">\n",
       "      <th></th>\n",
       "      <th>0</th>\n",
       "      <th>1</th>\n",
       "      <th>2</th>\n",
       "    </tr>\n",
       "  </thead>\n",
       "  <tbody>\n",
       "    <tr>\n",
       "      <th>id</th>\n",
       "      <td>1</td>\n",
       "      <td>2</td>\n",
       "      <td>3</td>\n",
       "    </tr>\n",
       "    <tr>\n",
       "      <th>book_id</th>\n",
       "      <td>2767052</td>\n",
       "      <td>3</td>\n",
       "      <td>41865</td>\n",
       "    </tr>\n",
       "    <tr>\n",
       "      <th>best_book_id</th>\n",
       "      <td>2767052</td>\n",
       "      <td>3</td>\n",
       "      <td>41865</td>\n",
       "    </tr>\n",
       "    <tr>\n",
       "      <th>work_id</th>\n",
       "      <td>2792775</td>\n",
       "      <td>4640799</td>\n",
       "      <td>3212258</td>\n",
       "    </tr>\n",
       "    <tr>\n",
       "      <th>books_count</th>\n",
       "      <td>272</td>\n",
       "      <td>491</td>\n",
       "      <td>226</td>\n",
       "    </tr>\n",
       "    <tr>\n",
       "      <th>isbn</th>\n",
       "      <td>439023483</td>\n",
       "      <td>439554934</td>\n",
       "      <td>316015849</td>\n",
       "    </tr>\n",
       "    <tr>\n",
       "      <th>isbn13</th>\n",
       "      <td>9780439023480.0</td>\n",
       "      <td>9780439554930.0</td>\n",
       "      <td>9780316015840.0</td>\n",
       "    </tr>\n",
       "    <tr>\n",
       "      <th>authors</th>\n",
       "      <td>Suzanne Collins</td>\n",
       "      <td>J.K. Rowling, Mary GrandPré</td>\n",
       "      <td>Stephenie Meyer</td>\n",
       "    </tr>\n",
       "    <tr>\n",
       "      <th>original_publication_year</th>\n",
       "      <td>2008.0</td>\n",
       "      <td>1997.0</td>\n",
       "      <td>2005.0</td>\n",
       "    </tr>\n",
       "    <tr>\n",
       "      <th>original_title</th>\n",
       "      <td>The Hunger Games</td>\n",
       "      <td>Harry Potter and the Philosopher's Stone</td>\n",
       "      <td>Twilight</td>\n",
       "    </tr>\n",
       "    <tr>\n",
       "      <th>title</th>\n",
       "      <td>The Hunger Games (The Hunger Games, #1)</td>\n",
       "      <td>Harry Potter and the Sorcerer's Stone (Harry P...</td>\n",
       "      <td>Twilight (Twilight, #1)</td>\n",
       "    </tr>\n",
       "    <tr>\n",
       "      <th>language_code</th>\n",
       "      <td>eng</td>\n",
       "      <td>eng</td>\n",
       "      <td>en-US</td>\n",
       "    </tr>\n",
       "    <tr>\n",
       "      <th>average_rating</th>\n",
       "      <td>4.34</td>\n",
       "      <td>4.44</td>\n",
       "      <td>3.57</td>\n",
       "    </tr>\n",
       "    <tr>\n",
       "      <th>ratings_count</th>\n",
       "      <td>4780653</td>\n",
       "      <td>4602479</td>\n",
       "      <td>3866839</td>\n",
       "    </tr>\n",
       "    <tr>\n",
       "      <th>work_ratings_count</th>\n",
       "      <td>4942365</td>\n",
       "      <td>4800065</td>\n",
       "      <td>3916824</td>\n",
       "    </tr>\n",
       "    <tr>\n",
       "      <th>work_text_reviews_count</th>\n",
       "      <td>155254</td>\n",
       "      <td>75867</td>\n",
       "      <td>95009</td>\n",
       "    </tr>\n",
       "    <tr>\n",
       "      <th>ratings_1</th>\n",
       "      <td>66715</td>\n",
       "      <td>75504</td>\n",
       "      <td>456191</td>\n",
       "    </tr>\n",
       "    <tr>\n",
       "      <th>ratings_2</th>\n",
       "      <td>127936</td>\n",
       "      <td>101676</td>\n",
       "      <td>436802</td>\n",
       "    </tr>\n",
       "    <tr>\n",
       "      <th>ratings_3</th>\n",
       "      <td>560092</td>\n",
       "      <td>455024</td>\n",
       "      <td>793319</td>\n",
       "    </tr>\n",
       "    <tr>\n",
       "      <th>ratings_4</th>\n",
       "      <td>1481305</td>\n",
       "      <td>1156318</td>\n",
       "      <td>875073</td>\n",
       "    </tr>\n",
       "    <tr>\n",
       "      <th>ratings_5</th>\n",
       "      <td>2706317</td>\n",
       "      <td>3011543</td>\n",
       "      <td>1355439</td>\n",
       "    </tr>\n",
       "    <tr>\n",
       "      <th>image_url</th>\n",
       "      <td>https://images.gr-assets.com/books/1447303603m...</td>\n",
       "      <td>https://images.gr-assets.com/books/1474154022m...</td>\n",
       "      <td>https://images.gr-assets.com/books/1361039443m...</td>\n",
       "    </tr>\n",
       "    <tr>\n",
       "      <th>small_image_url</th>\n",
       "      <td>https://images.gr-assets.com/books/1447303603s...</td>\n",
       "      <td>https://images.gr-assets.com/books/1474154022s...</td>\n",
       "      <td>https://images.gr-assets.com/books/1361039443s...</td>\n",
       "    </tr>\n",
       "  </tbody>\n",
       "</table>\n",
       "</div>"
      ],
      "text/plain": [
       "                                                                           0  \\\n",
       "id                                                                         1   \n",
       "book_id                                                              2767052   \n",
       "best_book_id                                                         2767052   \n",
       "work_id                                                              2792775   \n",
       "books_count                                                              272   \n",
       "isbn                                                               439023483   \n",
       "isbn13                                                       9780439023480.0   \n",
       "authors                                                      Suzanne Collins   \n",
       "original_publication_year                                             2008.0   \n",
       "original_title                                              The Hunger Games   \n",
       "title                                The Hunger Games (The Hunger Games, #1)   \n",
       "language_code                                                            eng   \n",
       "average_rating                                                          4.34   \n",
       "ratings_count                                                        4780653   \n",
       "work_ratings_count                                                   4942365   \n",
       "work_text_reviews_count                                               155254   \n",
       "ratings_1                                                              66715   \n",
       "ratings_2                                                             127936   \n",
       "ratings_3                                                             560092   \n",
       "ratings_4                                                            1481305   \n",
       "ratings_5                                                            2706317   \n",
       "image_url                  https://images.gr-assets.com/books/1447303603m...   \n",
       "small_image_url            https://images.gr-assets.com/books/1447303603s...   \n",
       "\n",
       "                                                                           1  \\\n",
       "id                                                                         2   \n",
       "book_id                                                                    3   \n",
       "best_book_id                                                               3   \n",
       "work_id                                                              4640799   \n",
       "books_count                                                              491   \n",
       "isbn                                                               439554934   \n",
       "isbn13                                                       9780439554930.0   \n",
       "authors                                          J.K. Rowling, Mary GrandPré   \n",
       "original_publication_year                                             1997.0   \n",
       "original_title                      Harry Potter and the Philosopher's Stone   \n",
       "title                      Harry Potter and the Sorcerer's Stone (Harry P...   \n",
       "language_code                                                            eng   \n",
       "average_rating                                                          4.44   \n",
       "ratings_count                                                        4602479   \n",
       "work_ratings_count                                                   4800065   \n",
       "work_text_reviews_count                                                75867   \n",
       "ratings_1                                                              75504   \n",
       "ratings_2                                                             101676   \n",
       "ratings_3                                                             455024   \n",
       "ratings_4                                                            1156318   \n",
       "ratings_5                                                            3011543   \n",
       "image_url                  https://images.gr-assets.com/books/1474154022m...   \n",
       "small_image_url            https://images.gr-assets.com/books/1474154022s...   \n",
       "\n",
       "                                                                           2  \n",
       "id                                                                         3  \n",
       "book_id                                                                41865  \n",
       "best_book_id                                                           41865  \n",
       "work_id                                                              3212258  \n",
       "books_count                                                              226  \n",
       "isbn                                                               316015849  \n",
       "isbn13                                                       9780316015840.0  \n",
       "authors                                                      Stephenie Meyer  \n",
       "original_publication_year                                             2005.0  \n",
       "original_title                                                      Twilight  \n",
       "title                                                Twilight (Twilight, #1)  \n",
       "language_code                                                          en-US  \n",
       "average_rating                                                          3.57  \n",
       "ratings_count                                                        3866839  \n",
       "work_ratings_count                                                   3916824  \n",
       "work_text_reviews_count                                                95009  \n",
       "ratings_1                                                             456191  \n",
       "ratings_2                                                             436802  \n",
       "ratings_3                                                             793319  \n",
       "ratings_4                                                             875073  \n",
       "ratings_5                                                            1355439  \n",
       "image_url                  https://images.gr-assets.com/books/1361039443m...  \n",
       "small_image_url            https://images.gr-assets.com/books/1361039443s...  "
      ]
     },
     "execution_count": 8,
     "metadata": {},
     "output_type": "execute_result"
    }
   ],
   "source": [
    "df_books.head(3).T"
   ]
  },
  {
   "cell_type": "markdown",
   "id": "d23d7b99-e600-4e49-82af-751df51abce0",
   "metadata": {},
   "source": [
    "### checking datatype for books csv"
   ]
  },
  {
   "cell_type": "code",
   "execution_count": 9,
   "id": "34e148e2-409f-4b56-aeb7-240106b3d6ea",
   "metadata": {},
   "outputs": [
    {
     "data": {
      "text/plain": [
       "Index(['id', 'book_id', 'best_book_id', 'work_id', 'books_count', 'isbn',\n",
       "       'isbn13', 'authors', 'original_publication_year', 'original_title',\n",
       "       'title', 'language_code', 'average_rating', 'ratings_count',\n",
       "       'work_ratings_count', 'work_text_reviews_count', 'ratings_1',\n",
       "       'ratings_2', 'ratings_3', 'ratings_4', 'ratings_5', 'image_url',\n",
       "       'small_image_url'],\n",
       "      dtype='object')"
      ]
     },
     "execution_count": 9,
     "metadata": {},
     "output_type": "execute_result"
    }
   ],
   "source": [
    "df_books.columns"
   ]
  },
  {
   "cell_type": "code",
   "execution_count": 10,
   "id": "bc56a305-9a7b-41a3-a6fd-d59b24005647",
   "metadata": {},
   "outputs": [
    {
     "name": "stdout",
     "output_type": "stream",
     "text": [
      "<class 'pandas.core.frame.DataFrame'>\n",
      "RangeIndex: 10000 entries, 0 to 9999\n",
      "Data columns (total 23 columns):\n",
      " #   Column                     Non-Null Count  Dtype  \n",
      "---  ------                     --------------  -----  \n",
      " 0   id                         10000 non-null  int64  \n",
      " 1   book_id                    10000 non-null  int64  \n",
      " 2   best_book_id               10000 non-null  int64  \n",
      " 3   work_id                    10000 non-null  int64  \n",
      " 4   books_count                10000 non-null  int64  \n",
      " 5   isbn                       9300 non-null   object \n",
      " 6   isbn13                     9415 non-null   float64\n",
      " 7   authors                    10000 non-null  object \n",
      " 8   original_publication_year  9979 non-null   float64\n",
      " 9   original_title             9415 non-null   object \n",
      " 10  title                      10000 non-null  object \n",
      " 11  language_code              8916 non-null   object \n",
      " 12  average_rating             10000 non-null  float64\n",
      " 13  ratings_count              10000 non-null  int64  \n",
      " 14  work_ratings_count         10000 non-null  int64  \n",
      " 15  work_text_reviews_count    10000 non-null  int64  \n",
      " 16  ratings_1                  10000 non-null  int64  \n",
      " 17  ratings_2                  10000 non-null  int64  \n",
      " 18  ratings_3                  10000 non-null  int64  \n",
      " 19  ratings_4                  10000 non-null  int64  \n",
      " 20  ratings_5                  10000 non-null  int64  \n",
      " 21  image_url                  10000 non-null  object \n",
      " 22  small_image_url            10000 non-null  object \n",
      "dtypes: float64(3), int64(13), object(7)\n",
      "memory usage: 1.8+ MB\n"
     ]
    }
   ],
   "source": [
    "df_books.info()"
   ]
  },
  {
   "cell_type": "code",
   "execution_count": 11,
   "id": "88c02c72-8231-4c18-b7c0-0298054ab9aa",
   "metadata": {},
   "outputs": [
    {
     "data": {
      "text/html": [
       "<div>\n",
       "<style scoped>\n",
       "    .dataframe tbody tr th:only-of-type {\n",
       "        vertical-align: middle;\n",
       "    }\n",
       "\n",
       "    .dataframe tbody tr th {\n",
       "        vertical-align: top;\n",
       "    }\n",
       "\n",
       "    .dataframe thead th {\n",
       "        text-align: right;\n",
       "    }\n",
       "</style>\n",
       "<table border=\"1\" class=\"dataframe\">\n",
       "  <thead>\n",
       "    <tr style=\"text-align: right;\">\n",
       "      <th></th>\n",
       "      <th>book_id</th>\n",
       "      <th>user_id</th>\n",
       "      <th>rating</th>\n",
       "    </tr>\n",
       "  </thead>\n",
       "  <tbody>\n",
       "    <tr>\n",
       "      <th>0</th>\n",
       "      <td>1</td>\n",
       "      <td>314</td>\n",
       "      <td>5</td>\n",
       "    </tr>\n",
       "    <tr>\n",
       "      <th>1</th>\n",
       "      <td>1</td>\n",
       "      <td>439</td>\n",
       "      <td>3</td>\n",
       "    </tr>\n",
       "    <tr>\n",
       "      <th>2</th>\n",
       "      <td>1</td>\n",
       "      <td>588</td>\n",
       "      <td>5</td>\n",
       "    </tr>\n",
       "    <tr>\n",
       "      <th>3</th>\n",
       "      <td>1</td>\n",
       "      <td>1169</td>\n",
       "      <td>4</td>\n",
       "    </tr>\n",
       "    <tr>\n",
       "      <th>4</th>\n",
       "      <td>1</td>\n",
       "      <td>1185</td>\n",
       "      <td>4</td>\n",
       "    </tr>\n",
       "  </tbody>\n",
       "</table>\n",
       "</div>"
      ],
      "text/plain": [
       "   book_id  user_id  rating\n",
       "0        1      314       5\n",
       "1        1      439       3\n",
       "2        1      588       5\n",
       "3        1     1169       4\n",
       "4        1     1185       4"
      ]
     },
     "execution_count": 11,
     "metadata": {},
     "output_type": "execute_result"
    }
   ],
   "source": [
    "df_ratings.head(5)"
   ]
  },
  {
   "cell_type": "markdown",
   "id": "68e2d663-c5a4-48e3-bdc7-7d898e6b813a",
   "metadata": {},
   "source": [
    "### checking datatypes of ratings csv file"
   ]
  },
  {
   "cell_type": "code",
   "execution_count": 12,
   "id": "5f32d801-42cc-4e5c-a691-637b968ec3a6",
   "metadata": {},
   "outputs": [
    {
     "name": "stdout",
     "output_type": "stream",
     "text": [
      "<class 'pandas.core.frame.DataFrame'>\n",
      "RangeIndex: 981756 entries, 0 to 981755\n",
      "Data columns (total 3 columns):\n",
      " #   Column   Non-Null Count   Dtype\n",
      "---  ------   --------------   -----\n",
      " 0   book_id  981756 non-null  int64\n",
      " 1   user_id  981756 non-null  int64\n",
      " 2   rating   981756 non-null  int64\n",
      "dtypes: int64(3)\n",
      "memory usage: 22.5 MB\n"
     ]
    }
   ],
   "source": [
    "df_ratings.info()"
   ]
  },
  {
   "cell_type": "code",
   "execution_count": 13,
   "id": "1b9c4755-0e9e-48f1-98f0-aa083a9ef16e",
   "metadata": {},
   "outputs": [
    {
     "data": {
      "text/html": [
       "<div>\n",
       "<style scoped>\n",
       "    .dataframe tbody tr th:only-of-type {\n",
       "        vertical-align: middle;\n",
       "    }\n",
       "\n",
       "    .dataframe tbody tr th {\n",
       "        vertical-align: top;\n",
       "    }\n",
       "\n",
       "    .dataframe thead th {\n",
       "        text-align: right;\n",
       "    }\n",
       "</style>\n",
       "<table border=\"1\" class=\"dataframe\">\n",
       "  <thead>\n",
       "    <tr style=\"text-align: right;\">\n",
       "      <th></th>\n",
       "      <th>goodreads_book_id</th>\n",
       "      <th>tag_id</th>\n",
       "      <th>count</th>\n",
       "    </tr>\n",
       "  </thead>\n",
       "  <tbody>\n",
       "    <tr>\n",
       "      <th>0</th>\n",
       "      <td>1</td>\n",
       "      <td>30574</td>\n",
       "      <td>167697</td>\n",
       "    </tr>\n",
       "    <tr>\n",
       "      <th>1</th>\n",
       "      <td>1</td>\n",
       "      <td>11305</td>\n",
       "      <td>37174</td>\n",
       "    </tr>\n",
       "    <tr>\n",
       "      <th>2</th>\n",
       "      <td>1</td>\n",
       "      <td>11557</td>\n",
       "      <td>34173</td>\n",
       "    </tr>\n",
       "  </tbody>\n",
       "</table>\n",
       "</div>"
      ],
      "text/plain": [
       "   goodreads_book_id  tag_id   count\n",
       "0                  1   30574  167697\n",
       "1                  1   11305   37174\n",
       "2                  1   11557   34173"
      ]
     },
     "execution_count": 13,
     "metadata": {},
     "output_type": "execute_result"
    }
   ],
   "source": [
    "df_genre.head(3)"
   ]
  },
  {
   "cell_type": "code",
   "execution_count": 14,
   "id": "625807da-6bae-483e-a936-d66409bb209f",
   "metadata": {},
   "outputs": [
    {
     "name": "stdout",
     "output_type": "stream",
     "text": [
      "<class 'pandas.core.frame.DataFrame'>\n",
      "RangeIndex: 999912 entries, 0 to 999911\n",
      "Data columns (total 3 columns):\n",
      " #   Column             Non-Null Count   Dtype\n",
      "---  ------             --------------   -----\n",
      " 0   goodreads_book_id  999912 non-null  int64\n",
      " 1   tag_id             999912 non-null  int64\n",
      " 2   count              999912 non-null  int64\n",
      "dtypes: int64(3)\n",
      "memory usage: 22.9 MB\n"
     ]
    }
   ],
   "source": [
    "df_genre.info()"
   ]
  },
  {
   "cell_type": "code",
   "execution_count": 15,
   "id": "e66dd811-96bb-4cde-8267-6417a0f6ac87",
   "metadata": {},
   "outputs": [
    {
     "data": {
      "text/html": [
       "<div>\n",
       "<style scoped>\n",
       "    .dataframe tbody tr th:only-of-type {\n",
       "        vertical-align: middle;\n",
       "    }\n",
       "\n",
       "    .dataframe tbody tr th {\n",
       "        vertical-align: top;\n",
       "    }\n",
       "\n",
       "    .dataframe thead th {\n",
       "        text-align: right;\n",
       "    }\n",
       "</style>\n",
       "<table border=\"1\" class=\"dataframe\">\n",
       "  <thead>\n",
       "    <tr style=\"text-align: right;\">\n",
       "      <th></th>\n",
       "      <th>tag_id</th>\n",
       "      <th>tag_name</th>\n",
       "    </tr>\n",
       "  </thead>\n",
       "  <tbody>\n",
       "    <tr>\n",
       "      <th>0</th>\n",
       "      <td>0</td>\n",
       "      <td>-</td>\n",
       "    </tr>\n",
       "    <tr>\n",
       "      <th>1</th>\n",
       "      <td>1</td>\n",
       "      <td>--1-</td>\n",
       "    </tr>\n",
       "    <tr>\n",
       "      <th>2</th>\n",
       "      <td>2</td>\n",
       "      <td>--10-</td>\n",
       "    </tr>\n",
       "    <tr>\n",
       "      <th>3</th>\n",
       "      <td>3</td>\n",
       "      <td>--12-</td>\n",
       "    </tr>\n",
       "    <tr>\n",
       "      <th>4</th>\n",
       "      <td>4</td>\n",
       "      <td>--122-</td>\n",
       "    </tr>\n",
       "  </tbody>\n",
       "</table>\n",
       "</div>"
      ],
      "text/plain": [
       "   tag_id tag_name\n",
       "0       0        -\n",
       "1       1     --1-\n",
       "2       2    --10-\n",
       "3       3    --12-\n",
       "4       4   --122-"
      ]
     },
     "execution_count": 15,
     "metadata": {},
     "output_type": "execute_result"
    }
   ],
   "source": [
    "df_genreId.head()"
   ]
  },
  {
   "cell_type": "code",
   "execution_count": 16,
   "id": "9a2fce55-14e9-40a1-8464-54e888727bb2",
   "metadata": {},
   "outputs": [
    {
     "name": "stdout",
     "output_type": "stream",
     "text": [
      "<class 'pandas.core.frame.DataFrame'>\n",
      "RangeIndex: 34252 entries, 0 to 34251\n",
      "Data columns (total 2 columns):\n",
      " #   Column    Non-Null Count  Dtype \n",
      "---  ------    --------------  ----- \n",
      " 0   tag_id    34252 non-null  int64 \n",
      " 1   tag_name  34252 non-null  object\n",
      "dtypes: int64(1), object(1)\n",
      "memory usage: 535.3+ KB\n"
     ]
    }
   ],
   "source": [
    "df_genreId.info()"
   ]
  },
  {
   "cell_type": "code",
   "execution_count": 43,
   "id": "a1bfbe95-6e1d-4733-b9dd-7a6194dfa6ec",
   "metadata": {},
   "outputs": [],
   "source": [
    "from dataclasses import dataclass\n",
    "from pathlib import Path\n",
    "\n",
    "@dataclass(frozen=True)\n",
    "class DataValidationConfig:\n",
    "    root_dir : Path\n",
    "    STATUS_FILE : str\n",
    "    unzip_data_dir : Path\n",
    "    schema : dict"
   ]
  },
  {
   "cell_type": "code",
   "execution_count": 44,
   "id": "40e182ea-33ee-4d7d-8d04-bf3098abb22b",
   "metadata": {},
   "outputs": [
    {
     "data": {
      "text/plain": [
       "['goodreads_book_id', 'tag_id', 'count']"
      ]
     },
     "execution_count": 44,
     "metadata": {},
     "output_type": "execute_result"
    }
   ],
   "source": [
    "list(df_genre.columns)"
   ]
  },
  {
   "cell_type": "code",
   "execution_count": 49,
   "id": "f9f64736-c49d-4d90-b815-8a3891ecbf61",
   "metadata": {},
   "outputs": [],
   "source": [
    "from recSys.constants import *\n",
    "from recSys.utils.common import read_yaml, create_directories, validate_data"
   ]
  },
  {
   "cell_type": "code",
   "execution_count": 55,
   "id": "10c2518f-5b73-49af-b67e-1f742d9ea08b",
   "metadata": {},
   "outputs": [],
   "source": [
    "class ConfigurationManager:\n",
    "    def __init__(\n",
    "        self,\n",
    "        config_path = CONFIG_FILE_PATH,\n",
    "        params_path = PARAMS_FILE_PATH,\n",
    "        schema_path = SCHEMA_FILE_PATH\n",
    "    ):\n",
    "        self.config = read_yaml(config_path)\n",
    "        self.params = read_yaml(params_path)\n",
    "        self.schema = read_yaml(schema_path)\n",
    "\n",
    "        create_directories([self.config.artifacts_root])\n",
    "\n",
    "    def get_data_validation_config(self) -> DataValidationConfig:\n",
    "        config = self.config.data_validation\n",
    "        schema = self.schema\n",
    "\n",
    "        create_directories([config.root_dir])\n",
    "\n",
    "        data_validation_config = DataValidationConfig(\n",
    "            root_dir = config.root_dir,\n",
    "            STATUS_FILE = config.STATUS_FILE,\n",
    "            unzip_data_dir = config.unzip_data_dir,\n",
    "            schema = schema)\n",
    "        \n",
    "        return data_validation_config\n"
   ]
  },
  {
   "cell_type": "code",
   "execution_count": 37,
   "id": "a4ebdc79-6b53-47ed-91eb-450337f9d092",
   "metadata": {},
   "outputs": [
    {
     "name": "stdout",
     "output_type": "stream",
     "text": [
      "[2023-08-16 21:15:35,301: INFO: common: yaml file: config/config.yaml loaded successfully]\n",
      "[2023-08-16 21:15:35,309: INFO: common: yaml file: params.yaml loaded successfully]\n",
      "[2023-08-16 21:15:35,362: INFO: common: yaml file: schema.yaml loaded successfully]\n",
      "[2023-08-16 21:15:35,371: INFO: common: created directory at: artifacts]\n"
     ]
    }
   ],
   "source": [
    "c = ConfigurationManager()"
   ]
  },
  {
   "cell_type": "code",
   "execution_count": 68,
   "id": "254f9803-693e-44ad-9f89-f03dc1e19e9d",
   "metadata": {},
   "outputs": [
    {
     "name": "stdout",
     "output_type": "stream",
     "text": [
      "[2023-08-16 10:59:15,496: WARNING: 632672479: !!! for file books.csv : image_url not present in data !!!]\n",
      "[2023-08-16 10:59:15,501: WARNING: 632672479: !!! for file books.csv : small_image_url not present in data !!!]\n",
      "False\n"
     ]
    }
   ],
   "source": [
    "cols = list(df_books.columns)[:-2]\n",
    "schema = c.schema.books\n",
    "file_path = path_books\n",
    "\n",
    "def \n",
    "status_cols = True\n",
    "status_dtype = True\n",
    "\n",
    "for col in schema.keys():\n",
    "    if col not in cols:\n",
    "        curr_status = False\n",
    "        status_cols = status_cols and curr_status\n",
    "        logger.warning(f\"!!! for file {os.path.basename(file_path)} : {col} not present in data !!!\")\n",
    "    if df_books[col].dtype != schema[col]:\n",
    "        print(col)\n",
    "        curr_status = False\n",
    "        status_dtype = status_dtype and curr_status\n",
    "        logger.warning(f\"!!! for file {os.path.basename(file_path)} : data mismatch for column {col} !!!\")\n",
    "\n",
    "status = status_cols and status_dtype\n",
    "return status"
   ]
  },
  {
   "cell_type": "code",
   "execution_count": 11,
   "id": "ef2e096d-19ae-423d-853e-11046355a325",
   "metadata": {},
   "outputs": [
    {
     "data": {
      "text/plain": [
       "'artifacts/data_validation/status.txt'"
      ]
     },
     "execution_count": 11,
     "metadata": {},
     "output_type": "execute_result"
    }
   ],
   "source": [
    "c.config.data_validation.STATUS_FILE"
   ]
  },
  {
   "cell_type": "code",
   "execution_count": 56,
   "id": "7e2c0a82-2f98-4e77-b030-b15fd6f19afd",
   "metadata": {},
   "outputs": [],
   "source": [
    "import os\n",
    "from recSys import logger"
   ]
  },
  {
   "cell_type": "code",
   "execution_count": 61,
   "id": "e080e0a2-9bf0-4474-9aac-38fd4379a1e5",
   "metadata": {},
   "outputs": [],
   "source": [
    "class DataValidation:\n",
    "    def __init__(self, config: DataValidationConfig):\n",
    "        self.config = config\n",
    "\n",
    "    def validate_data(self) -> bool:\n",
    "        path = self.config.unzip_data_dir\n",
    "        files = path.keys()\n",
    "        status_file = self.config.STATUS_FILE\n",
    "        schema = config.schema\n",
    "\n",
    "        status = True\n",
    "        \n",
    "        try:\n",
    "            with open(status_file, \"w\") as file:\n",
    "                    logger.info(f\"Accesed file {status_file} for making validation status\")\n",
    "            for f in files:\n",
    "                curr_status = validate_data(path[f], schema[f])\n",
    "                with open(status_file, \"a\") as file:\n",
    "                    file.write(f\"Validation status for {f}: {curr_status}\\n\")\n",
    "            \n",
    "                status = status and curr_status\n",
    "            \n",
    "            print(status)\n",
    "        \n",
    "        except Exception as e:\n",
    "            print(e)\n",
    "            raise e           \n",
    "            "
   ]
  },
  {
   "cell_type": "code",
   "execution_count": 62,
   "id": "93d4e03a-291c-4aeb-ba9a-331ff5f10ceb",
   "metadata": {},
   "outputs": [
    {
     "name": "stdout",
     "output_type": "stream",
     "text": [
      "[2023-08-16 21:40:28,541: INFO: common: yaml file: config/config.yaml loaded successfully]\n",
      "[2023-08-16 21:40:28,548: INFO: common: yaml file: params.yaml loaded successfully]\n",
      "[2023-08-16 21:40:28,566: INFO: common: yaml file: schema.yaml loaded successfully]\n",
      "[2023-08-16 21:40:28,569: INFO: common: created directory at: artifacts]\n",
      "[2023-08-16 21:40:28,572: INFO: common: created directory at: artifacts/data_validation]\n",
      "[2023-08-16 21:40:28,574: INFO: 1303728464: Accesed file artifacts/data_validation/status.txt for making validation status]\n",
      "True\n"
     ]
    }
   ],
   "source": [
    "try:\n",
    "    config = ConfigurationManager()\n",
    "    data_validation_config = config.get_data_validation_config()\n",
    "    \n",
    "    data_validation = DataValidation(config = data_validation_config)\n",
    "    data_validation.validate_data()\n",
    "\n",
    "except Exception as e:\n",
    "    raise e"
   ]
  }
 ],
 "metadata": {
  "kernelspec": {
   "display_name": "recSystem",
   "language": "python",
   "name": "recsystem"
  },
  "language_info": {
   "codemirror_mode": {
    "name": "ipython",
    "version": 3
   },
   "file_extension": ".py",
   "mimetype": "text/x-python",
   "name": "python",
   "nbconvert_exporter": "python",
   "pygments_lexer": "ipython3",
   "version": "3.10.12"
  }
 },
 "nbformat": 4,
 "nbformat_minor": 5
}
